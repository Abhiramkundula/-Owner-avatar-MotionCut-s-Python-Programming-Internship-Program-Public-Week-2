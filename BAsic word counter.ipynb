{
 "cells": [
  {
   "cell_type": "code",
   "execution_count": null,
   "id": "6c7f5c7d-a501-4edb-8148-ce5f6c045a7b",
   "metadata": {},
   "outputs": [
    {
     "name": "stdout",
     "output_type": "stream",
     "text": [
      "Welcome to the Word Counter!\n"
     ]
    },
    {
     "name": "stdin",
     "output_type": "stream",
     "text": [
      "Enter a sentence or paragraph (or 'q' to quit):  What is a paragraph? Paragraphs are the building blocks of papers. Many students define paragraphs in terms of length: a paragraph is a group of at least five sentences, a paragraph is half a page long, etc. In reality, though, the unity and coherence of ideas among sentences is what constitutes a paragraph. A paragraph is defined as “a group of sentences or a single sentence that forms a unit” (Lunsford and Connors 116). Length and appearance do not determine whether a section in a paper is a paragraph. For instance, in some styles of writing, particularly journalistic styles, a paragraph can be just one sentence long. Ultimately, a paragraph is a sentence or group of sentences that support one main idea. In this handout, we will refer to this as the “controlling idea,” because it controls what happens in the rest of the paragraph.  How do I decide what to put in a paragraph? Before you can begin to determine what the composition of a particular paragraph will be, you must first decide on an argument and a working thesis statement for your paper. What is the most important idea that you are trying to convey to your reader? The information in each paragraph must be related to that idea. In other words, your paragraphs should remind your reader that there is a recurrent relationship between your thesis and the information in each paragraph. A working thesis functions like a seed from which your paper, and your ideas, will grow. The whole process is an organic one—a natural progression from a seed to a full-blown paper where there are direct, familial relationships between all of the ideas in the paper.  The decision about what to put into your paragraphs begins with the germination of a seed of ideas; this “germination process” is better known as brainstorming. There are many techniques for brainstorming; whichever one you choose, this stage of paragraph development cannot be skipped. Building paragraphs can be like building a skyscraper: there must be a well-planned foundation that supports what you are building. Any cracks, inconsistencies, or other corruptions of the foundation can cause your whole paper to crumble.  So, let’s suppose that you have done some brainstorming to develop your thesis. What else should you keep in mind as you begin to create paragraphs? Every paragraph in a paper should be:\n"
     ]
    },
    {
     "name": "stdout",
     "output_type": "stream",
     "text": [
      "The number of words is: 394\n",
      "\n"
     ]
    }
   ],
   "source": [
    "def count_words(text):\n",
    "    \"\"\"\n",
    "    Counts the number of words in the given text.\n",
    "\n",
    "    Args:\n",
    "        text (str): The input text for which the word count needs to be calculated.\n",
    "\n",
    "    Returns:\n",
    "        int: The number of words in the input text.\n",
    "    \"\"\"\n",
    "    # Split the text into words using the space character as the delimiter\n",
    "    words = text.split()\n",
    "\n",
    "    # Return the length of the list of words\n",
    "    return len(words)\n",
    "\n",
    "def main():\n",
    "    \"\"\"\n",
    "    The main function that runs the Word Counter program.\n",
    "    \"\"\"\n",
    "    print(\"Welcome to the Word Counter!\")\n",
    "\n",
    "    while True:\n",
    "        # Prompt the user to enter a sentence or paragraph\n",
    "        user_input = input(\"Enter a sentence or paragraph (or 'q' to quit): \")\n",
    "\n",
    "        # Check if the user wants to quit\n",
    "        if user_input.lower() == 'q':\n",
    "            break\n",
    "\n",
    "        # Count the words in the user input\n",
    "        word_count = count_words(user_input)\n",
    "\n",
    "        # Display the word count\n",
    "        print(f\"The number of words is: {word_count}\")\n",
    "        print()  # Print an empty line for better readability\n",
    "\n",
    "    print(\"Thank you for using the Word Counter!\")\n",
    "\n",
    "if __name__ == \"__main__\":\n",
    "    main()"
   ]
  }
 ],
 "metadata": {
  "kernelspec": {
   "display_name": "Python 3 (ipykernel)",
   "language": "python",
   "name": "python3"
  },
  "language_info": {
   "codemirror_mode": {
    "name": "ipython",
    "version": 3
   },
   "file_extension": ".py",
   "mimetype": "text/x-python",
   "name": "python",
   "nbconvert_exporter": "python",
   "pygments_lexer": "ipython3",
   "version": "3.11.2"
  }
 },
 "nbformat": 4,
 "nbformat_minor": 5
}
